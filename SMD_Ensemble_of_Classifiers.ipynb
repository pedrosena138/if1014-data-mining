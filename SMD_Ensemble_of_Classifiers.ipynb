{
  "nbformat": 4,
  "nbformat_minor": 0,
  "metadata": {
    "kernelspec": {
      "display_name": "Python 3",
      "language": "python",
      "name": "python3"
    },
    "language_info": {
      "codemirror_mode": {
        "name": "ipython",
        "version": 3
      },
      "file_extension": ".py",
      "mimetype": "text/x-python",
      "name": "python",
      "nbconvert_exporter": "python",
      "pygments_lexer": "ipython3",
      "version": "3.6.1"
    },
    "colab": {
      "provenance": [],
      "include_colab_link": true
    }
  },
  "cells": [
    {
      "cell_type": "markdown",
      "metadata": {
        "id": "view-in-github",
        "colab_type": "text"
      },
      "source": [
        "<a href=\"https://colab.research.google.com/github/pedrosena138/if1014-data-mining/blob/main/SMD_Ensemble_of_Classifiers.ipynb\" target=\"_parent\"><img src=\"https://colab.research.google.com/assets/colab-badge.svg\" alt=\"Open In Colab\"/></a>"
      ]
    },
    {
      "cell_type": "code",
      "metadata": {
        "id": "KL5nJSwRb29e",
        "colab": {
          "base_uri": "https://localhost:8080/"
        },
        "outputId": "5f63d451-698e-4904-9ab1-76586b6a5fa0"
      },
      "source": [
        "\n",
        "# Random Forest Classification\n",
        "import pandas\n",
        "from sklearn import tree\n",
        "from sklearn import model_selection\n",
        "from sklearn.model_selection import train_test_split\n",
        "from sklearn.metrics import classification_report\n",
        "from sklearn.ensemble import RandomForestClassifier\n",
        "\n",
        "#definindo o nome dos atributos/colunas\n",
        "names = ['preg', 'plas', 'pres', 'skin', 'test', 'mass', 'pedi', 'age', 'class']\n",
        "\n",
        "#carregando os dados\n",
        "dataframe = pandas.read_csv(\"pima-indians-diabetes.csv\", names=names)\n",
        "\n",
        "#dimensoes da base de dados\n",
        "print(dataframe.shape)\n",
        "\n",
        "#convertendo os valores da base para array\n",
        "array = dataframe.values\n",
        "X = array[:,0:8]\n",
        "Y = array[:,8]\n",
        "\n",
        "#semente de numeros aleatorios\n",
        "seed = 7\n",
        "num_trees = 15\n",
        "max_features = 6\n",
        "\n",
        "#[3 5 7 8 10 20 50 100 500]\n",
        "#divisao dos dados\n",
        "X_train, X_test, y_train, y_test = train_test_split(X, Y, test_size=0.30, random_state=seed)\n",
        "\n",
        "#numero de folds atraves do metodo k-fold\n",
        "kfold = model_selection.StratifiedKFold(n_splits=10)\n",
        "\n",
        "#criando o classificador Random Forest\n",
        "model_rf = RandomForestClassifier(n_estimators=num_trees, max_features=max_features, random_state=seed)\n",
        "\n",
        "#treinamento do Random Forest em dez folds\n",
        "results = model_selection.cross_val_score(model_rf, X_train, y_train, cv=kfold)\n",
        "\n",
        "model_rf = model_rf.fit(X_train,y_train)\n",
        "\n",
        "print(\"Random Forest folds:\", results, \"\\nMedia treinamento: \" ,results.mean())\n",
        "print(\"Treinamento: \", model_rf.score(X_train,y_train))\n",
        "print(\"Teste: \", model_rf.score(X_test,y_test))\n",
        "\n",
        "#criando a arvore de decisao\n",
        "clf = tree.DecisionTreeClassifier(criterion='entropy',random_state=seed)\n",
        "\n",
        "#treinamento da arvores de decisao em dez folds\n",
        "results = model_selection.cross_val_score(clf, X_train, y_train, cv=kfold)\n",
        "clf = clf.fit(X_train,y_train)\n",
        "\n",
        "print(\"\\nDecision Tree folds\", results, \"\\nMedia treinamento: \",results.mean())\n",
        "print(\"Treinamento: \", clf.score(X_train,y_train))\n",
        "print(\"Teste: \", clf.score(X_test,y_test))\n"
      ],
      "execution_count": null,
      "outputs": [
        {
          "output_type": "stream",
          "name": "stdout",
          "text": [
            "(768, 9)\n",
            "Random Forest folds: [0.83333333 0.64814815 0.83333333 0.75925926 0.64814815 0.75925926\n",
            " 0.7962963  0.79245283 0.77358491 0.67924528] \n",
            "Media treinamento:  0.7523060796645702\n",
            "Treinamento:  0.9981378026070763\n",
            "Teste:  0.7445887445887446\n",
            "\n",
            "Decision Tree folds [0.75925926 0.64814815 0.7037037  0.7037037  0.64814815 0.72222222\n",
            " 0.85185185 0.77358491 0.71698113 0.66037736] \n",
            "Media treinamento:  0.7187980433263452\n",
            "Treinamento:  1.0\n",
            "Teste:  0.7359307359307359\n"
          ]
        }
      ]
    },
    {
      "cell_type": "code",
      "metadata": {
        "id": "i5h_MLLoZZdy",
        "colab": {
          "base_uri": "https://localhost:8080/"
        },
        "outputId": "f2fd7be5-e3af-40cd-c3c1-c292793cc0c1"
      },
      "source": [
        "#Comitê com votação entre os classificadores com AdaBoostClassifier\n",
        "import numpy as np\n",
        "import pandas\n",
        "from sklearn.model_selection import cross_val_score\n",
        "from sklearn.ensemble import AdaBoostClassifier\n",
        "from sklearn.svm import SVC\n",
        "from sklearn import tree\n",
        "seed = 1075\n",
        "np.random.seed(seed)\n",
        "\n",
        "names = ['preg', 'plas', 'pres', 'skin', 'test', 'mass', 'pedi', 'age', 'class']\n",
        "dataframe = pandas.read_csv(\"pima-indians-diabetes.csv\", names=names)\n",
        "array = dataframe.values\n",
        "X = array[:,0:8]\n",
        "Y = array[:,8]\n",
        "\n",
        "# Create classifiers\n",
        "dt = tree.DecisionTreeClassifier(criterion='entropy',max_depth=3, random_state=seed)\n",
        "svc = SVC(probability=True, kernel='linear', random_state=seed)\n",
        "\n",
        "#training ensembles of classifiers\n",
        "clf_array = [dt, svc]\n",
        "for clf in clf_array:\n",
        "    pima_scores = cross_val_score(clf, X, Y, cv=10)\n",
        "    boosting_clf = AdaBoostClassifier(base_estimator=clf, n_estimators=6, random_state=seed)\n",
        "    boosting_scores = cross_val_score(boosting_clf, X, Y, cv=10)    \n",
        "    print('Media clf ',pima_scores.mean(), 'Desvio ',pima_scores.std(), 'Media Bagging',boosting_scores.mean(), 'Desvio ',boosting_scores.std())"
      ],
      "execution_count": null,
      "outputs": [
        {
          "output_type": "stream",
          "name": "stdout",
          "text": [
            "Media clf  0.7382604237867396 Desvio  0.03663332089093633 Media Bagging 0.7187799043062201 Desvio  0.060208799319956756\n",
            "Media clf  0.7669685577580314 Desvio  0.03338716735131549 Media Bagging 0.6588345864661653 Desvio  0.01654312742219658\n"
          ]
        }
      ]
    },
    {
      "cell_type": "code",
      "metadata": {
        "id": "JVbZ7Pdtdrtv",
        "colab": {
          "base_uri": "https://localhost:8080/"
        },
        "outputId": "a7b3757e-7101-44ec-aade-4fed96c9b306"
      },
      "source": [
        "# Get some classifiers to evaluate with BaggingClassifier\n",
        "import numpy as np\n",
        "import pandas\n",
        "from sklearn.model_selection import cross_val_score\n",
        "from sklearn.ensemble import BaggingClassifier,RandomForestClassifier\n",
        "from sklearn.neighbors import KNeighborsClassifier\n",
        "from sklearn.linear_model import RidgeClassifier\n",
        "from sklearn.svm import SVC\n",
        "\n",
        "seed = 1075\n",
        "np.random.seed(seed)\n",
        "\n",
        "names = ['preg', 'plas', 'pres', 'skin', 'test', 'mass', 'pedi', 'age', 'class']\n",
        "dataframe = pandas.read_csv(\"pima-indians-diabetes.csv\", names=names)\n",
        "array = dataframe.values\n",
        "X = array[:,0:8]\n",
        "Y = array[:,8]\n",
        "\n",
        "# Create base classifiers\n",
        "rf = RandomForestClassifier()\n",
        "knn = KNeighborsClassifier()\n",
        "svc = SVC(kernel='linear')\n",
        "rg = RidgeClassifier()\n",
        "\n",
        "#training ensembles of classifiers\n",
        "clf_array = [rf, knn, svc, rg]\n",
        "for clf in clf_array:\n",
        "    pima_scores = cross_val_score(clf, X, Y, cv=10)\n",
        "    bagging_clf = BaggingClassifier(clf,max_samples=0.3, random_state=seed)\n",
        "    bagging_scores = cross_val_score(bagging_clf, X, Y, cv=10)    \n",
        "    print('Media clf ',pima_scores.mean(), 'Desvio ',pima_scores.std(), 'Media Bagging',bagging_scores.mean(), 'Desvio ',bagging_scores.std())"
      ],
      "execution_count": null,
      "outputs": [
        {
          "output_type": "stream",
          "name": "stdout",
          "text": [
            "Media clf  0.7617224880382775 Desvio  0.049688240527885306 Media Bagging 0.7617395762132604 Desvio  0.04877493503738191\n",
            "Media clf  0.7213773069036227 Desvio  0.04416817250533367 Media Bagging 0.7474538619275461 Desvio  0.03919108390131277\n",
            "Media clf  0.7669685577580314 Desvio  0.03338716735131549 Media Bagging 0.7695830485304171 Desvio  0.029390886031526838\n",
            "Media clf  0.7734962406015038 Desvio  0.03417526057730609 Media Bagging 0.7721633629528366 Desvio  0.03128714178833154\n"
          ]
        }
      ]
    },
    {
      "cell_type": "code",
      "metadata": {
        "id": "OtzavXvMc7Y1",
        "colab": {
          "base_uri": "https://localhost:8080/"
        },
        "outputId": "cf5e223f-4a92-4be3-bea3-f367a29800a9"
      },
      "source": [
        "# Voting Ensemble for Classification\n",
        "import pandas\n",
        "from sklearn import model_selection\n",
        "from sklearn.linear_model import LogisticRegression\n",
        "from sklearn.tree import DecisionTreeClassifier\n",
        "from sklearn.svm import SVC\n",
        "from sklearn.ensemble import VotingClassifier\n",
        "import warnings\n",
        "warnings.filterwarnings(\"ignore\")\n",
        "\n",
        "names = ['preg', 'plas', 'pres', 'skin', 'test', 'mass', 'pedi', 'age', 'class']\n",
        "dataframe = pandas.read_csv(\"pima-indians-diabetes.csv\", names=names)\n",
        "array = dataframe.values\n",
        "X = array[:,0:8]\n",
        "Y = array[:,8]\n",
        "seed = 5\n",
        "kfold = model_selection.StratifiedKFold(n_splits=10, random_state=seed)\n",
        "\n",
        "# create the sub models\n",
        "estimators = []\n",
        "model1 = LogisticRegression()\n",
        "estimators.append(('logistic', model1))\n",
        "model2 = DecisionTreeClassifier()\n",
        "estimators.append(('cart', model2))\n",
        "model3 = SVC(kernel='linear')\n",
        "estimators.append(('svm', model3))\n",
        "\n",
        "#train\n",
        "\n",
        "\n",
        "# create the ensemble model\n",
        "ensemble = VotingClassifier(estimators)\n",
        "results = model_selection.cross_val_score(ensemble, X, Y, cv=kfold)\n",
        "print(results.mean())"
      ],
      "execution_count": null,
      "outputs": [
        {
          "output_type": "stream",
          "name": "stdout",
          "text": [
            "0.7721633629528367\n"
          ]
        }
      ]
    },
    {
      "cell_type": "code",
      "metadata": {
        "colab": {
          "base_uri": "https://localhost:8080/",
          "height": 374
        },
        "id": "iu8gvZMQYGmP",
        "outputId": "283d07fe-50b4-4f2b-bd8a-83f945037367"
      },
      "source": [
        "# compare ensemble to each baseline classifier\n",
        "from numpy import mean\n",
        "from numpy import std\n",
        "from sklearn.datasets import make_classification\n",
        "from sklearn.model_selection import cross_val_score\n",
        "from sklearn.model_selection import RepeatedStratifiedKFold\n",
        "from sklearn.ensemble import RandomForestClassifier\n",
        "from sklearn.linear_model import LogisticRegression\n",
        "from sklearn.neighbors import KNeighborsClassifier\n",
        "from sklearn.tree import DecisionTreeClassifier\n",
        "from sklearn.svm import SVC\n",
        "from sklearn.naive_bayes import GaussianNB\n",
        "from sklearn.ensemble import StackingClassifier\n",
        "from matplotlib import pyplot\n",
        "\n",
        " \n",
        "# get the dataset\n",
        "def get_dataset():\n",
        "\tX, y = make_classification(n_samples=1000, n_features=20, n_informative=15, n_redundant=5, random_state=1)\n",
        "\treturn X, y\n",
        "\n",
        "#get a stacking ensemble of models\n",
        "def get_stacking():\n",
        "\t# define the base models\n",
        "\tlevel0 = list()\n",
        "\tlevel0.append(('lr', LogisticRegression()))\n",
        "\tlevel0.append(('knn', KNeighborsClassifier()))\n",
        "\tlevel0.append(('cart', DecisionTreeClassifier()))\n",
        "\tlevel0.append(('svm', SVC()))\n",
        "\tlevel0.append(('bayes', GaussianNB()))\n",
        "\t# define meta learner model\n",
        "\tlevel1 = LogisticRegression()\n",
        "\t# define the stacking ensemble\n",
        "\tmodel = StackingClassifier(estimators=level0, final_estimator=level1, cv=5)\n",
        "\treturn model\n",
        "\n",
        "# #get a stacking ensemble of models\n",
        "# def get_stacking():\n",
        "# \t# define the base models\n",
        "# \tlevel0 = list()\n",
        "# \tlevel0.append(('rf', RandomForestClassifier()))\n",
        "# \tlevel0.append(('knn', KNeighborsClassifier()))\n",
        "# \tlevel0.append(('cart', DecisionTreeClassifier()))\n",
        "# \tlevel0.append(('svm', SVC()))\n",
        "# \tlevel0.append(('bayes', GaussianNB()))\n",
        "# \tlevel0.append(('lvqq', algorithms.LVQ(n_inputs=7, n_classes=2)))\n",
        "# \t# define meta learner model\n",
        "# \tlevel1 = KNeighborsClassifier()\n",
        "# \t# define the stacking ensemble\n",
        "# \tmodel = StackingClassifier(estimators=level0, final_estimator=level1, cv=5)\n",
        "# \treturn model\n",
        "\n",
        "# def get_stacking():\n",
        "# \t# define the base models\n",
        "# \tlevel0 = list()\n",
        "# \tlevel0.append(('knnn', KNeighborsClassifier()))\n",
        "# \tlevel0.append(('arvore', DecisionTreeClassifier()))\n",
        "# \tlevel0.append(('svc', SVC()))\n",
        "# \tlevel0.append(('lvqq', algorithms.LVQ(n_inputs=7, n_classes=2)))\n",
        "#   level0.append(('rf', RandomForestClassifier()))\n",
        "# \t# define meta learner model\n",
        "#   level1 = LogisticRegression()\n",
        "# \t# define the stacking ensemble\n",
        "#   model = StackingClassifier(estimators=level0, final_estimator=level1, cv=5)\n",
        "# \treturn model\n",
        "\n",
        "# get a list of models to evaluate\n",
        "def get_models():\n",
        "\tmodels = dict()\n",
        "\tmodels['rf'] = RandomForestClassifier()\n",
        "\tmodels['knn'] = KNeighborsClassifier()\n",
        "\tmodels['cart'] = DecisionTreeClassifier()\n",
        "\tmodels['svm'] = SVC()\n",
        "\tmodels['bayes'] = GaussianNB()\n",
        "\t#models['lvqq'] = algorithms.LVQ(n_inputs=7, n_classes=2)\n",
        "\tmodels['stacking'] = get_stacking()\n",
        "\treturn models\n",
        " \n",
        "# evaluate a give model using cross-validation\n",
        "def evaluate_model(model, X, y):\n",
        "\tcv = RepeatedStratifiedKFold(n_splits=10, n_repeats=3, random_state=1)\n",
        "\tscores = cross_val_score(model, X, y, scoring='accuracy', cv=cv, n_jobs=-1, error_score='raise')\n",
        "\treturn scores\n",
        " \n",
        "# define dataset\n",
        "X, y = get_dataset()\n",
        "# get the models to evaluate\n",
        "models = get_models()\n",
        "# evaluate the models and store results\n",
        "results, names = list(), list()\n",
        "for name, model in models.items():\n",
        "\tscores = evaluate_model(model, X, y)\n",
        "\tresults.append(scores)\n",
        "\tnames.append(name)\n",
        "\tprint('>%s %.3f (%.3f)' % (name, mean(scores), std(scores)))\n",
        "# plot model performance for comparison\n",
        "pyplot.boxplot(results, labels=names, showmeans=True)\n",
        "pyplot.show()"
      ],
      "execution_count": null,
      "outputs": [
        {
          "output_type": "stream",
          "name": "stdout",
          "text": [
            ">rf 0.917 (0.027)\n",
            ">knn 0.931 (0.025)\n",
            ">cart 0.827 (0.040)\n",
            ">svm 0.957 (0.020)\n",
            ">bayes 0.833 (0.031)\n",
            ">stacking 0.964 (0.020)\n"
          ]
        },
        {
          "output_type": "display_data",
          "data": {
            "text/plain": [
              "<Figure size 432x288 with 1 Axes>"
            ],
            "image/png": "[encoded data removed]"
          },
          "metadata": {
            "needs_background": "light"
          }
        }
      ]
    }
  ]
}