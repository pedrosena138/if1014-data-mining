{
  "cells": [
    {
      "cell_type": "markdown",
      "metadata": {
        "id": "view-in-github",
        "colab_type": "text"
      },
      "source": [
        "<a href=\"https://colab.research.google.com/github/pedrosena138/if1014-data-mining/blob/main/SMD_SVM__.ipynb\" target=\"_parent\"><img src=\"https://colab.research.google.com/assets/colab-badge.svg\" alt=\"Open In Colab\"/></a>"
      ]
    },
    {
      "cell_type": "code",
      "execution_count": null,
      "metadata": {
        "colab": {
          "background_save": true,
          "base_uri": "https://localhost:8080/"
        },
        "id": "Ig7QdcwvhLfk",
        "outputId": "a2543f61-5c6f-4e05-bddd-a0f1298c91e6"
      },
      "outputs": [
        {
          "name": "stdout",
          "output_type": "stream",
          "text": [
            "Primeiros dados\n",
            "   num-pregnant  glucose  diastolic  triceps-skin  insulin  body-mass  \\\n",
            "0             6      148         72            35        0       33.6   \n",
            "1             1       85         66            29        0       26.6   \n",
            "2             8      183         64             0        0       23.3   \n",
            "3             1       89         66            23       94       28.1   \n",
            "4             0      137         40            35      168       43.1   \n",
            "\n",
            "   diabetes-pedigree  age  class  \n",
            "0              0.627   50      1  \n",
            "1              0.351   31      0  \n",
            "2              0.672   32      1  \n",
            "3              0.167   21      0  \n",
            "4              2.288   33      1  \n"
          ]
        }
      ],
      "source": [
        "#\n",
        "#\n",
        "# USANDO O SVM NA BASE DE DADOS DO DIABETES\n",
        "# ESCOLHENDO VARIOS Kernels PARA A BASE\n",
        "#\n",
        "\n",
        "import pandas\n",
        "from matplotlib import pyplot as plt\n",
        "from sklearn.model_selection import train_test_split\n",
        "from sklearn.svm import SVC\n",
        "from sklearn.model_selection import cross_val_score\n",
        "plt.rcParams['figure.figsize'] = [16, 10]\n",
        "   \n",
        "#definindo os nomes de cada coluna   \n",
        "names = ['num-pregnant', 'glucose', 'diastolic', 'triceps-skin', 'insulin', 'body-mass', 'diabetes-pedigree', 'age', 'class']\n",
        "\n",
        "#Fazendo o carregamento dos dados diretamente do UCI Machine Learning          \n",
        "dataset = pandas.read_csv(\"pima-indians-diabetes.csv\", names=names)\n",
        "\n",
        "print(\"Primeiros dados\")\n",
        "print(dataset.head(5))\n",
        "\n",
        "#divisao de dados atributos e classe\n",
        "X = dataset.values[:, 0:len(dataset.values[0])-1] #caracteristicas\n",
        "Y = dataset.values[:, len(dataset.values[0])-1] #classe\n",
        "\n",
        "#usando o metodo para fazer uma unica divisao dos dados\n",
        "X_train, X_test, y_train, y_test = train_test_split( X, Y, test_size = 0.25, random_state = 10)\n",
        "\n",
        "X_train, X_valid, y_train, y_valid = train_test_split(X_train, y_train, test_size = 0.25, random_state = 10)\n",
        "\n",
        "clf = SVC()\n",
        "\n",
        "clf.fit(X_train, y_train)\n",
        "\n",
        "kernels_range = ['poly', 'rbf', 'sigmoid']\n",
        "c_range =[0.1,1,2,4,5,10,15,20,30,50,100,200,500,1000]\n",
        "gamma = [1,3,4,5,7,10,15,20,25,30,40,50,100,200,500,1000]\n",
        "k_scores_train = []\n",
        "k_scores_valid = []\n",
        "k_scores_cross = []\n",
        "\n",
        "# use iteration to caclulator different kernels in models, then return the average accuracy based on the cross validation\n",
        "for j in c_range:\n",
        "  for k in gamma:\n",
        "    svc = SVC(C=j, gamma=k, random_state=10, kernel=kernels_range[0])\n",
        "    scores = cross_val_score(svc, X_train, y_train, cv=5, scoring='accuracy')\n",
        "    k_scores_cross.append(scores.mean())\n",
        "    svc.fit(X_train, y_train)\n",
        "    k_scores_train.append(svc.score(X_train, y_train))\n",
        "    k_scores_valid.append(svc.score(X_valid, y_valid))\n",
        "\n",
        "# plot to see clearly\n",
        "plt.plot(list(range(0,len(k_scores_cross))), k_scores_cross)\n",
        "plt.plot(list(range(0,len(k_scores_train))), k_scores_train)\n",
        "plt.plot(list(range(0,len(k_scores_valid))), k_scores_valid)\n",
        "plt.legend(('Validacao cruzada', 'Treinamento', 'Validacao'),\n",
        "           loc='upper center', shadow=True)\n",
        "plt.xlabel('Value of kernels for SVM')\n",
        "plt.ylabel('Cross-Validated Accuracy')\n",
        "plt.show()\n",
        "\n",
        "print(\"Acuracia de treinamento clf: %0.3f\" %  clf.score(X_train, y_train))\n",
        "print(\"Acuracia de validacao clf: %0.3f\" %  clf.score(X_valid, y_valid))\n",
        "print(\"Acuracia de teste clf: %0.3f\" %  clf.score(X_test, y_test))\n"
      ]
    }
  ],
  "metadata": {
    "colab": {
      "provenance": [],
      "include_colab_link": true
    },
    "kernelspec": {
      "display_name": "Python 3",
      "name": "python3"
    },
    "language_info": {
      "name": "python"
    }
  },
  "nbformat": 4,
  "nbformat_minor": 0
}